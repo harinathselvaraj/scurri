{
 "cells": [
  {
   "cell_type": "code",
   "execution_count": 86,
   "metadata": {},
   "outputs": [
    {
     "name": "stdout",
     "output_type": "stream",
     "text": [
      "Requirement already satisfied: pandas in /Users/harinathselvaraj/opt/anaconda3/lib/python3.7/site-packages (0.25.1)\n",
      "Requirement already satisfied: pytz>=2017.2 in /Users/harinathselvaraj/opt/anaconda3/lib/python3.7/site-packages (from pandas) (2019.3)\n",
      "Requirement already satisfied: numpy>=1.13.3 in /Users/harinathselvaraj/opt/anaconda3/lib/python3.7/site-packages (from pandas) (1.17.2)\n",
      "Requirement already satisfied: python-dateutil>=2.6.1 in /Users/harinathselvaraj/opt/anaconda3/lib/python3.7/site-packages (from pandas) (2.8.0)\n",
      "Requirement already satisfied: six>=1.5 in /Users/harinathselvaraj/opt/anaconda3/lib/python3.7/site-packages (from python-dateutil>=2.6.1->pandas) (1.12.0)\n"
     ]
    }
   ],
   "source": [
    "!pip install pandas"
   ]
  },
  {
   "cell_type": "code",
   "execution_count": 151,
   "metadata": {},
   "outputs": [
    {
     "data": {
      "text/plain": [
       "[1,\n",
       " 2,\n",
       " 'Three',\n",
       " 4,\n",
       " 'Five',\n",
       " 'Three',\n",
       " 7,\n",
       " 8,\n",
       " 'Three',\n",
       " 'Five',\n",
       " 11,\n",
       " 'Three',\n",
       " 13,\n",
       " 14,\n",
       " 'ThreeFive',\n",
       " 16,\n",
       " 17,\n",
       " 'Three',\n",
       " 19,\n",
       " 'Five',\n",
       " 'Three',\n",
       " 22,\n",
       " 23,\n",
       " 'Three',\n",
       " 'Five',\n",
       " 26,\n",
       " 'Three',\n",
       " 28,\n",
       " 29,\n",
       " 'ThreeFive',\n",
       " 31,\n",
       " 32,\n",
       " 'Three',\n",
       " 34,\n",
       " 'Five',\n",
       " 'Three',\n",
       " 37,\n",
       " 38,\n",
       " 'Three',\n",
       " 'Five',\n",
       " 41,\n",
       " 'Three',\n",
       " 43,\n",
       " 44,\n",
       " 'ThreeFive',\n",
       " 46,\n",
       " 47,\n",
       " 'Three',\n",
       " 49,\n",
       " 'Five',\n",
       " 'Three',\n",
       " 52,\n",
       " 53,\n",
       " 'Three',\n",
       " 'Five',\n",
       " 56,\n",
       " 'Three',\n",
       " 58,\n",
       " 59,\n",
       " 'ThreeFive',\n",
       " 61,\n",
       " 62,\n",
       " 'Three',\n",
       " 64,\n",
       " 'Five',\n",
       " 'Three',\n",
       " 67,\n",
       " 68,\n",
       " 'Three',\n",
       " 'Five',\n",
       " 71,\n",
       " 'Three',\n",
       " 73,\n",
       " 74,\n",
       " 'ThreeFive',\n",
       " 76,\n",
       " 77,\n",
       " 'Three',\n",
       " 79,\n",
       " 'Five',\n",
       " 'Three',\n",
       " 82,\n",
       " 83,\n",
       " 'Three',\n",
       " 'Five',\n",
       " 86,\n",
       " 'Three',\n",
       " 88,\n",
       " 89,\n",
       " 'ThreeFive',\n",
       " 91,\n",
       " 92,\n",
       " 'Three',\n",
       " 94,\n",
       " 'Five',\n",
       " 'Three',\n",
       " 97,\n",
       " 98,\n",
       " 'Three',\n",
       " 'Five']"
      ]
     },
     "execution_count": 151,
     "metadata": {},
     "output_type": "execute_result"
    }
   ],
   "source": [
    "[ 'ThreeFive' if ((x % 3 ==0) & (x % 5 == 0)) else\n",
    "  'Three' if (x % 3 == 0) else\n",
    "  'Five' if (x % 5 == 0) else x  \n",
    " for x in range(1, 101) ]"
   ]
  },
  {
   "cell_type": "code",
   "execution_count": 159,
   "metadata": {},
   "outputs": [],
   "source": [
    "def validate_postal_code(code):\n",
    "    \"\"\"\n",
    "    Input: code <string>\n",
    "    Output: 'Y' or 'N' <string>\n",
    "            'Y' indicates that the given UK postal code pattern is valid\n",
    "            'N' indicates that the given UK postal code pattern is invalid\n",
    "    Usage Example: \n",
    "    validate_postal_code('SW1W 0NY')\n",
    "    \n",
    "    Description: This function validates the UK postal code format given in \n",
    "    https://en.wikipedia.org/wiki/Postcodes_in_the_United_Kingdom#formatting\n",
    "    \n",
    "    This also includes special cases given in the table - \n",
    "    url - https://en.wikipedia.org/wiki/Postcodes_in_the_United_Kingdom#Special_cases   \n",
    "    \n",
    "    Regex pattern match is used to validate the UK postal code. \n",
    "        \n",
    "    Note: The REGEX Pattern - [A-Z]{1,2}[0-9][A-Z0-9]? ?[0-9][A-Z]{2} can accomodate most of the postal codes, \n",
    "    However, the below REGEX code is used to accomodate the special cases as well.    \n",
    "    \n",
    "    (([A-Z]{1,2}[0-9][A-Z0-9]?|ASCN|STHL|TDCU|BBND|[BFS]IQQ|PCRN|TKCA) ?[0-9][A-Z]{2}|BFPO ?[0-9]{1,4}|(KY[0-9]|MSR|VG|AI)[ -]?[0-9]{4}|[A-Z]{2} ?[0-9]{2}|GE ?CX|GIR ?0A{2}|SAN ?TA1)\n",
    "\n",
    "    \n",
    "    Meaning of Each pattern from the above code: \n",
    "    \n",
    "    PATTERN 1: ([A-Z]{1,2}[0-9][A-Z0-9]?|ASCN|STHL|TDCU|BBND|[BFS]IQQ|PCRN|TKCA)\n",
    "    [A-Z]{1,2} -> should contain letters A to Z. It can either be 1 or 2 characters.\n",
    "    [0-9] -> single digit number (0 to 9)\n",
    "    [A-Z0-9]? -> Can be optional. It can contain a letter (A to Z) or a number (0 to 9).\n",
    "    OR \n",
    "    ASCN|STHL|TDCU|BBND|[BFS]IQQ|PCRN|TKCA -> It should have the below 4 characters:\n",
    "    ASCN or STHL or TDCU or BBND or BIQQ OR FIQQ or SIQQ or PCRN or TKCA\n",
    "    \n",
    "    PATTERN 2: ?[0-9][A-Z]{2}|BFPO -> Can be Optional. \n",
    "    [0-9][A-Z]{2} -> Contain one number (0 to 9) and Contains two letters (A to Z)\n",
    "    OR \n",
    "    BFPO -> Can contain the letters - BFPO\n",
    "    \n",
    "    PATTERN 3: ?[0-9]{1,4}|(KY[0-9]|MSR|VG|AI)[ -] -> Can be Optional. \n",
    "    Contain 1 to 4 numbers (0 to 9)    \n",
    "    OR \n",
    "    (KY[0-9]|MSR|VG|AI)[ -] -> contains characters 'KY' followed by a digit (0 to 9) or contains MSR or VG or AI followed by '-'\n",
    "        \n",
    "    PATTERN 4: ?[0-9]{4}|[A-Z]{2} - Can be Optional.\n",
    "    [0-9]{4}|[A-Z]{2} -> contains 4 digits OR 2 letters\n",
    "    \n",
    "    PATTERN 5: ?[0-9]{2}|GE  - Can be Optional.\n",
    "    [0-9]{2}|GE -> contains 2 digits OR 'GE'\n",
    "    \n",
    "    PATTERN 6: ?CX|GIR - Can be Optional.\n",
    "    CX|GIR -> contains letters 'CX' or 'GIR'\n",
    "    \n",
    "    PATTERN 7: ?0A{2}|SAN - Can be Optional.\n",
    "    0A{2}|SAN - Can start with 0AA OR 'SAN'\n",
    "    \n",
    "    PATTERN 8:?TA1 - Can be Optional.\n",
    "    TA1 - Can start with TA1\n",
    "    \n",
    "    \"\"\"\n",
    "        \n",
    "    import re\n",
    "    return True if re.compile('(([A-Z]{1,2}[0-9][A-Z0-9]?|ASCN|STHL|TDCU|BBND|[BFS]IQQ|PCRN|TKCA) ?[0-9][A-Z]{2}|BFPO ?[0-9]{1,4}|(KY[0-9]|MSR|VG|AI)[ -]?[0-9]{4}|[A-Z]{2} ?[0-9]{2}|GE ?CX|GIR ?0A{2}|SAN ?TA1)').match(code) else False"
   ]
  },
  {
   "cell_type": "code",
   "execution_count": 161,
   "metadata": {},
   "outputs": [
    {
     "data": {
      "text/plain": [
       "True"
      ]
     },
     "execution_count": 161,
     "metadata": {},
     "output_type": "execute_result"
    }
   ],
   "source": [
    "validate_postal_code('SW1W 0YY')"
   ]
  },
  {
   "cell_type": "code",
   "execution_count": null,
   "metadata": {},
   "outputs": [],
   "source": []
  }
 ],
 "metadata": {
  "kernelspec": {
   "display_name": "Python 3.7.4 64-bit ('base': conda)",
   "language": "python",
   "name": "python37464bitbaseconda352746ee952e4d989f09c456519a8ce1"
  },
  "language_info": {
   "codemirror_mode": {
    "name": "ipython",
    "version": 3
   },
   "file_extension": ".py",
   "mimetype": "text/x-python",
   "name": "python",
   "nbconvert_exporter": "python",
   "pygments_lexer": "ipython3",
   "version": "3.7.4"
  }
 },
 "nbformat": 4,
 "nbformat_minor": 2
}
